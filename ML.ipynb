{
  "nbformat": 4,
  "nbformat_minor": 0,
  "metadata": {
    "colab": {
      "name": "Data_Camp.ipynb",
      "provenance": [],
      "collapsed_sections": []
    },
    "kernelspec": {
      "name": "python3",
      "display_name": "Python 3"
    }
  },
  "cells": [
    {
      "cell_type": "code",
      "metadata": {
        "id": "3sjs3LE6shGi",
        "outputId": "9362d8c7-3edf-4959-82d3-697c91aeb77c",
        "colab": {
          "base_uri": "https://localhost:8080/"
        }
      },
      "source": [
        "#Jonathan Waka SIMPUNGWE Machine learning experimentations\n",
        "\n",
        "#Fitting & Predicting\n",
        "from sklearn.datasets import fetch_20newsgroups\n",
        "from sklearn.datasets import fetch_20newsgroups_vectorized\n",
        "from sklearn.neighbors import KNeighborsClassifier\n",
        "from pprint import pprint\n",
        "from sklearn.metrics import accuracy_score\n",
        "\n",
        "\n",
        "ng= fetch_20newsgroups_vectorized(subset='train')\n",
        "\n",
        "ng2 = fetch_20newsgroups(subset='train')\n",
        "\n",
        "#print(ng2)\n",
        "\n",
        "#Show the Data\n",
        "pprint(list(ng.target_names))\n",
        "\n",
        "#Get the data\n",
        "X, y =ng.data, ng.target\n",
        "\n",
        "\n",
        "print('X =:',X.shape)\n",
        "print('y =:',y.shape)\n"
      ],
      "execution_count": 87,
      "outputs": [
        {
          "output_type": "stream",
          "text": [
            "['alt.atheism',\n",
            " 'comp.graphics',\n",
            " 'comp.os.ms-windows.misc',\n",
            " 'comp.sys.ibm.pc.hardware',\n",
            " 'comp.sys.mac.hardware',\n",
            " 'comp.windows.x',\n",
            " 'misc.forsale',\n",
            " 'rec.autos',\n",
            " 'rec.motorcycles',\n",
            " 'rec.sport.baseball',\n",
            " 'rec.sport.hockey',\n",
            " 'sci.crypt',\n",
            " 'sci.electronics',\n",
            " 'sci.med',\n",
            " 'sci.space',\n",
            " 'soc.religion.christian',\n",
            " 'talk.politics.guns',\n",
            " 'talk.politics.mideast',\n",
            " 'talk.politics.misc',\n",
            " 'talk.religion.misc']\n",
            "X =: (11314, 130107)\n",
            "y =: (11314,)\n"
          ],
          "name": "stdout"
        }
      ]
    },
    {
      "cell_type": "code",
      "metadata": {
        "id": "6iQybVixGiC4",
        "outputId": "d98e5156-b0cd-45bc-afb9-26fb5d59bb90",
        "colab": {
          "base_uri": "https://localhost:8080/"
        }
      },
      "source": [
        "#Application\n",
        "#Instantiante the Method (KNeighborsClassifier)\n",
        "KN=KNeighborsClassifier(n_neighbors=1)\n",
        "\n",
        "#print(KN)\n",
        "\n",
        "#Fit the data\n",
        "KN.fit(X,y)\n",
        "\n",
        "#Predict\n",
        "y_predict=KN.predict(X)\n",
        "\n",
        "print('Predict =:', y_predict)\n",
        "\n",
        "print(accuracy_score(y, y_predict))\n",
        "\n",
        "#We have a score of 99.99%"
      ],
      "execution_count": 41,
      "outputs": [
        {
          "output_type": "stream",
          "text": [
            "Predict =: [17  7 10 ... 14 12 11]\n",
            "0.9999116139296447\n"
          ],
          "name": "stdout"
        }
      ]
    },
    {
      "cell_type": "code",
      "metadata": {
        "id": "1zj4B7Mf5xUF",
        "outputId": "920748a1-8035-441e-d6a9-6d19217725d4",
        "colab": {
          "base_uri": "https://localhost:8080/"
        }
      },
      "source": [
        "#Applying LogisticRegresion on the data\n",
        "from sklearn.linear_model import LogisticRegression\n",
        "from sklearn.model_selection import train_test_split\n",
        "\n",
        "# Mettre les données en sous-échantillons\n",
        "X_train, X_test, y_train, y_test = train_test_split(X,y,test_size=0.30, random_state=42) \n",
        "\n",
        "#Method\n",
        "LR=LogisticRegression()\n",
        "\n",
        "#Fit\n",
        "LR.fit(X_train, y_train)\n",
        "\n",
        "#Predict\n",
        "y_predict=LR.predict(X_test)\n",
        "\n",
        "print('Predict =:', y_predict)\n",
        "\n",
        "#Scores\n",
        "print(accuracy_score(y_test, y_predict))"
      ],
      "execution_count": 42,
      "outputs": [
        {
          "output_type": "stream",
          "text": [
            "Predict =: [ 8  1 10 ... 14 16  3]\n",
            "0.7946980854197349\n"
          ],
          "name": "stdout"
        },
        {
          "output_type": "stream",
          "text": [
            "/usr/local/lib/python3.6/dist-packages/sklearn/linear_model/_logistic.py:940: ConvergenceWarning: lbfgs failed to converge (status=1):\n",
            "STOP: TOTAL NO. of ITERATIONS REACHED LIMIT.\n",
            "\n",
            "Increase the number of iterations (max_iter) or scale the data as shown in:\n",
            "    https://scikit-learn.org/stable/modules/preprocessing.html\n",
            "Please also refer to the documentation for alternative solver options:\n",
            "    https://scikit-learn.org/stable/modules/linear_model.html#logistic-regression\n",
            "  extra_warning_msg=_LOGISTIC_SOLVER_CONVERGENCE_MSG)\n"
          ],
          "name": "stderr"
        }
      ]
    },
    {
      "cell_type": "code",
      "metadata": {
        "id": "_2AUfjQ0si5s",
        "outputId": "7792d031-a325-408a-9435-9fd4a40ddc07",
        "colab": {
          "base_uri": "https://localhost:8080/"
        }
      },
      "source": [
        "#Applying logistic regression and SVM\n",
        "#Using LogisticRegression\n",
        "\n",
        "from sklearn.linear_model import LogisticRegression\n",
        "import sklearn.datasets\n",
        "vin=sklearn.datasets.load_wine()\n",
        "print(vin)\n",
        "X = vin.data\n",
        "y = vin.target\n",
        "\n",
        "#Instate the Method\n",
        "dt = LogisticRegression()\n",
        "\n",
        "#Fit\n",
        "dt.fit(X, y)\n",
        "\n",
        "#Calcul de score\n",
        "Score=dt.score(X,y)\n",
        "\n",
        "print('Score = :', Score)\n",
        "\n",
        "#Score = : 96.62%"
      ],
      "execution_count": 43,
      "outputs": [
        {
          "output_type": "stream",
          "text": [
            "{'data': array([[1.423e+01, 1.710e+00, 2.430e+00, ..., 1.040e+00, 3.920e+00,\n",
            "        1.065e+03],\n",
            "       [1.320e+01, 1.780e+00, 2.140e+00, ..., 1.050e+00, 3.400e+00,\n",
            "        1.050e+03],\n",
            "       [1.316e+01, 2.360e+00, 2.670e+00, ..., 1.030e+00, 3.170e+00,\n",
            "        1.185e+03],\n",
            "       ...,\n",
            "       [1.327e+01, 4.280e+00, 2.260e+00, ..., 5.900e-01, 1.560e+00,\n",
            "        8.350e+02],\n",
            "       [1.317e+01, 2.590e+00, 2.370e+00, ..., 6.000e-01, 1.620e+00,\n",
            "        8.400e+02],\n",
            "       [1.413e+01, 4.100e+00, 2.740e+00, ..., 6.100e-01, 1.600e+00,\n",
            "        5.600e+02]]), 'target': array([0, 0, 0, 0, 0, 0, 0, 0, 0, 0, 0, 0, 0, 0, 0, 0, 0, 0, 0, 0, 0, 0,\n",
            "       0, 0, 0, 0, 0, 0, 0, 0, 0, 0, 0, 0, 0, 0, 0, 0, 0, 0, 0, 0, 0, 0,\n",
            "       0, 0, 0, 0, 0, 0, 0, 0, 0, 0, 0, 0, 0, 0, 0, 1, 1, 1, 1, 1, 1, 1,\n",
            "       1, 1, 1, 1, 1, 1, 1, 1, 1, 1, 1, 1, 1, 1, 1, 1, 1, 1, 1, 1, 1, 1,\n",
            "       1, 1, 1, 1, 1, 1, 1, 1, 1, 1, 1, 1, 1, 1, 1, 1, 1, 1, 1, 1, 1, 1,\n",
            "       1, 1, 1, 1, 1, 1, 1, 1, 1, 1, 1, 1, 1, 1, 1, 1, 1, 1, 1, 1, 2, 2,\n",
            "       2, 2, 2, 2, 2, 2, 2, 2, 2, 2, 2, 2, 2, 2, 2, 2, 2, 2, 2, 2, 2, 2,\n",
            "       2, 2, 2, 2, 2, 2, 2, 2, 2, 2, 2, 2, 2, 2, 2, 2, 2, 2, 2, 2, 2, 2,\n",
            "       2, 2]), 'target_names': array(['class_0', 'class_1', 'class_2'], dtype='<U7'), 'DESCR': '.. _wine_dataset:\\n\\nWine recognition dataset\\n------------------------\\n\\n**Data Set Characteristics:**\\n\\n    :Number of Instances: 178 (50 in each of three classes)\\n    :Number of Attributes: 13 numeric, predictive attributes and the class\\n    :Attribute Information:\\n \\t\\t- Alcohol\\n \\t\\t- Malic acid\\n \\t\\t- Ash\\n\\t\\t- Alcalinity of ash  \\n \\t\\t- Magnesium\\n\\t\\t- Total phenols\\n \\t\\t- Flavanoids\\n \\t\\t- Nonflavanoid phenols\\n \\t\\t- Proanthocyanins\\n\\t\\t- Color intensity\\n \\t\\t- Hue\\n \\t\\t- OD280/OD315 of diluted wines\\n \\t\\t- Proline\\n\\n    - class:\\n            - class_0\\n            - class_1\\n            - class_2\\n\\t\\t\\n    :Summary Statistics:\\n    \\n    ============================= ==== ===== ======= =====\\n                                   Min   Max   Mean     SD\\n    ============================= ==== ===== ======= =====\\n    Alcohol:                      11.0  14.8    13.0   0.8\\n    Malic Acid:                   0.74  5.80    2.34  1.12\\n    Ash:                          1.36  3.23    2.36  0.27\\n    Alcalinity of Ash:            10.6  30.0    19.5   3.3\\n    Magnesium:                    70.0 162.0    99.7  14.3\\n    Total Phenols:                0.98  3.88    2.29  0.63\\n    Flavanoids:                   0.34  5.08    2.03  1.00\\n    Nonflavanoid Phenols:         0.13  0.66    0.36  0.12\\n    Proanthocyanins:              0.41  3.58    1.59  0.57\\n    Colour Intensity:              1.3  13.0     5.1   2.3\\n    Hue:                          0.48  1.71    0.96  0.23\\n    OD280/OD315 of diluted wines: 1.27  4.00    2.61  0.71\\n    Proline:                       278  1680     746   315\\n    ============================= ==== ===== ======= =====\\n\\n    :Missing Attribute Values: None\\n    :Class Distribution: class_0 (59), class_1 (71), class_2 (48)\\n    :Creator: R.A. Fisher\\n    :Donor: Michael Marshall (MARSHALL%PLU@io.arc.nasa.gov)\\n    :Date: July, 1988\\n\\nThis is a copy of UCI ML Wine recognition datasets.\\nhttps://archive.ics.uci.edu/ml/machine-learning-databases/wine/wine.data\\n\\nThe data is the results of a chemical analysis of wines grown in the same\\nregion in Italy by three different cultivators. There are thirteen different\\nmeasurements taken for different constituents found in the three types of\\nwine.\\n\\nOriginal Owners: \\n\\nForina, M. et al, PARVUS - \\nAn Extendible Package for Data Exploration, Classification and Correlation. \\nInstitute of Pharmaceutical and Food Analysis and Technologies,\\nVia Brigata Salerno, 16147 Genoa, Italy.\\n\\nCitation:\\n\\nLichman, M. (2013). UCI Machine Learning Repository\\n[https://archive.ics.uci.edu/ml]. Irvine, CA: University of California,\\nSchool of Information and Computer Science. \\n\\n.. topic:: References\\n\\n  (1) S. Aeberhard, D. Coomans and O. de Vel, \\n  Comparison of Classifiers in High Dimensional Settings, \\n  Tech. Rep. no. 92-02, (1992), Dept. of Computer Science and Dept. of  \\n  Mathematics and Statistics, James Cook University of North Queensland. \\n  (Also submitted to Technometrics). \\n\\n  The data was used with many others for comparing various \\n  classifiers. The classes are separable, though only RDA \\n  has achieved 100% correct classification. \\n  (RDA : 100%, QDA 99.4%, LDA 98.9%, 1NN 96.1% (z-transformed data)) \\n  (All results using the leave-one-out technique) \\n\\n  (2) S. Aeberhard, D. Coomans and O. de Vel, \\n  \"THE CLASSIFICATION PERFORMANCE OF RDA\" \\n  Tech. Rep. no. 92-01, (1992), Dept. of Computer Science and Dept. of \\n  Mathematics and Statistics, James Cook University of North Queensland. \\n  (Also submitted to Journal of Chemometrics).\\n', 'feature_names': ['alcohol', 'malic_acid', 'ash', 'alcalinity_of_ash', 'magnesium', 'total_phenols', 'flavanoids', 'nonflavanoid_phenols', 'proanthocyanins', 'color_intensity', 'hue', 'od280/od315_of_diluted_wines', 'proline']}\n",
            "Score = : 0.9662921348314607\n"
          ],
          "name": "stdout"
        },
        {
          "output_type": "stream",
          "text": [
            "/usr/local/lib/python3.6/dist-packages/sklearn/linear_model/_logistic.py:940: ConvergenceWarning: lbfgs failed to converge (status=1):\n",
            "STOP: TOTAL NO. of ITERATIONS REACHED LIMIT.\n",
            "\n",
            "Increase the number of iterations (max_iter) or scale the data as shown in:\n",
            "    https://scikit-learn.org/stable/modules/preprocessing.html\n",
            "Please also refer to the documentation for alternative solver options:\n",
            "    https://scikit-learn.org/stable/modules/linear_model.html#logistic-regression\n",
            "  extra_warning_msg=_LOGISTIC_SOLVER_CONVERGENCE_MSG)\n"
          ],
          "name": "stderr"
        }
      ]
    },
    {
      "cell_type": "code",
      "metadata": {
        "id": "90HcDj18JC4i",
        "outputId": "3de3d604-3024-4c1c-8faf-42bdf563c178",
        "colab": {
          "base_uri": "https://localhost:8080/"
        }
      },
      "source": [
        "#Applying Linear SVC\n",
        "#Instate the Method SVC\n",
        "from sklearn.svm import LinearSVC\n",
        "\n",
        "#Method\n",
        "svc = LinearSVC()\n",
        "\n",
        "#Fit\n",
        "svc.fit(X, y)\n",
        "\n",
        "#Calcul de score\n",
        "Score=svc.score(X,y)\n",
        "\n",
        "print('Score = :', Score)\n",
        "\n",
        "#Predict\n",
        "y_predict=svc.predict(X)\n",
        "\n",
        "print('Predict =:', y_predict)\n",
        "\n",
        "print('Accuracy_score =:',accuracy_score(y, y_predict))\n",
        "\n",
        "#Accuracy_score =: 90.44%"
      ],
      "execution_count": 44,
      "outputs": [
        {
          "output_type": "stream",
          "text": [
            "Score = : 0.8314606741573034\n",
            "Predict =: [0 0 0 0 0 0 0 0 0 0 0 0 0 0 0 0 0 0 0 0 0 0 0 0 0 0 0 0 0 0 0 0 0 0 0 0 0\n",
            " 0 0 0 0 0 0 0 0 0 0 0 0 0 0 0 0 0 0 0 0 0 0 0 0 2 0 1 1 0 0 2 0 0 0 1 1 0\n",
            " 0 2 1 1 0 1 1 0 1 2 1 1 1 1 0 1 1 1 1 1 1 0 1 1 0 1 0 0 1 1 0 1 1 1 1 0 1\n",
            " 1 2 1 1 1 1 1 2 1 0 1 1 1 1 1 1 1 1 2 2 2 2 2 0 2 2 2 2 2 2 0 2 2 2 0 2 2\n",
            " 2 2 2 2 2 2 2 2 2 2 2 2 2 2 2 2 2 2 2 2 2 2 2 2 2 2 2 2 2 2]\n",
            "Accuracy_score =: 0.8314606741573034\n"
          ],
          "name": "stdout"
        },
        {
          "output_type": "stream",
          "text": [
            "/usr/local/lib/python3.6/dist-packages/sklearn/svm/_base.py:947: ConvergenceWarning: Liblinear failed to converge, increase the number of iterations.\n",
            "  \"the number of iterations.\", ConvergenceWarning)\n"
          ],
          "name": "stderr"
        }
      ]
    },
    {
      "cell_type": "code",
      "metadata": {
        "id": "F_YxAkSmeNcv",
        "outputId": "cec54b0f-3a0f-4fd6-9155-f653d70724c0",
        "colab": {
          "base_uri": "https://localhost:8080/"
        }
      },
      "source": [
        "!pip install -U 'git+https://github.com/cocodataset/cocoapi.git#subdirectory=PythonAPI'"
      ],
      "execution_count": 49,
      "outputs": [
        {
          "output_type": "stream",
          "text": [
            "Collecting git+https://github.com/cocodataset/cocoapi.git#subdirectory=PythonAPI\n",
            "  Cloning https://github.com/cocodataset/cocoapi.git to /tmp/pip-req-build-srhnjpvs\n",
            "  Running command git clone -q https://github.com/cocodataset/cocoapi.git /tmp/pip-req-build-srhnjpvs\n",
            "Requirement already satisfied, skipping upgrade: setuptools>=18.0 in /usr/local/lib/python3.6/dist-packages (from pycocotools==2.0) (50.3.2)\n",
            "Requirement already satisfied, skipping upgrade: cython>=0.27.3 in /usr/local/lib/python3.6/dist-packages (from pycocotools==2.0) (0.29.21)\n",
            "Requirement already satisfied, skipping upgrade: matplotlib>=2.1.0 in /usr/local/lib/python3.6/dist-packages (from pycocotools==2.0) (3.2.2)\n",
            "Requirement already satisfied, skipping upgrade: cycler>=0.10 in /usr/local/lib/python3.6/dist-packages (from matplotlib>=2.1.0->pycocotools==2.0) (0.10.0)\n",
            "Requirement already satisfied, skipping upgrade: python-dateutil>=2.1 in /usr/local/lib/python3.6/dist-packages (from matplotlib>=2.1.0->pycocotools==2.0) (2.8.1)\n",
            "Requirement already satisfied, skipping upgrade: kiwisolver>=1.0.1 in /usr/local/lib/python3.6/dist-packages (from matplotlib>=2.1.0->pycocotools==2.0) (1.3.1)\n",
            "Requirement already satisfied, skipping upgrade: pyparsing!=2.0.4,!=2.1.2,!=2.1.6,>=2.0.1 in /usr/local/lib/python3.6/dist-packages (from matplotlib>=2.1.0->pycocotools==2.0) (2.4.7)\n",
            "Requirement already satisfied, skipping upgrade: numpy>=1.11 in /usr/local/lib/python3.6/dist-packages (from matplotlib>=2.1.0->pycocotools==2.0) (1.18.5)\n",
            "Requirement already satisfied, skipping upgrade: six in /usr/local/lib/python3.6/dist-packages (from cycler>=0.10->matplotlib>=2.1.0->pycocotools==2.0) (1.15.0)\n",
            "Building wheels for collected packages: pycocotools\n",
            "  Building wheel for pycocotools (setup.py) ... \u001b[?25l\u001b[?25hdone\n",
            "  Created wheel for pycocotools: filename=pycocotools-2.0-cp36-cp36m-linux_x86_64.whl size=266456 sha256=113d62b367ddb84276851f019a8e9dae130810fe7154fa5826659c915847f129\n",
            "  Stored in directory: /tmp/pip-ephem-wheel-cache-9i4yvmt0/wheels/90/51/41/646daf401c3bc408ff10de34ec76587a9b3ebfac8d21ca5c3a\n",
            "Successfully built pycocotools\n",
            "Installing collected packages: pycocotools\n",
            "  Found existing installation: pycocotools 2.0\n",
            "    Uninstalling pycocotools-2.0:\n",
            "      Successfully uninstalled pycocotools-2.0\n",
            "Successfully installed pycocotools-2.0\n"
          ],
          "name": "stdout"
        }
      ]
    },
    {
      "cell_type": "code",
      "metadata": {
        "id": "vquFnIZyYZGd",
        "outputId": "558e5e3b-fa2b-464f-dbda-f07f13ef85dd",
        "colab": {
          "base_uri": "https://localhost:8080/",
          "height": 1000
        }
      },
      "source": [
        "#Applying Breast Cancer Data\n",
        "from sklearn.datasets import load_breast_cancer\n",
        "import sklearn.datasets\n",
        "\n",
        "\n",
        "BC_Data=load_breast_cancer()\n",
        "\n",
        "print(BC_Data)\n",
        "\n",
        "X = BC_Data.data\n",
        "\n",
        "y= BC_Data.target\n",
        "\n",
        "pprint(list(BC_Data.target_names))\n",
        "\n",
        "#BC_Data.target[[10, 50, 85]]\n",
        "n_classes = data.target.size\n",
        "\n",
        "print('No of Classes = :', n_classes)\n",
        "\n",
        "#list(data.target_names)\n",
        "\n",
        "\n",
        "#Applying\n",
        "#Instantiante the Method (KNeighborsClassifier)\n",
        "k=[2,7,10,5]\n",
        "for i in k:\n",
        "  print('n_neighbors=:',i)\n",
        "  \n",
        "  KN=KNeighborsClassifier(n_neighbors=i)\n",
        "\n",
        "  #print(KN)\n",
        "\n",
        "  #Fit the data\n",
        "  KN.fit(X,y)\n",
        "\n",
        "  #Predict\n",
        "  y_predict=KN.predict(X)\n",
        "\n",
        "  print('Predict =:', y_predict)\n",
        "\n",
        "  print('Score', accuracy_score(y, y_predict))\n",
        "\n",
        "#With n_neighbors=7 we have a score of Score 94.37% \n",
        "#We can vary n_neighbors and enhnce the accuracy on the target data"
      ],
      "execution_count": 50,
      "outputs": [
        {
          "output_type": "stream",
          "text": [
            "{'data': array([[1.799e+01, 1.038e+01, 1.228e+02, ..., 2.654e-01, 4.601e-01,\n",
            "        1.189e-01],\n",
            "       [2.057e+01, 1.777e+01, 1.329e+02, ..., 1.860e-01, 2.750e-01,\n",
            "        8.902e-02],\n",
            "       [1.969e+01, 2.125e+01, 1.300e+02, ..., 2.430e-01, 3.613e-01,\n",
            "        8.758e-02],\n",
            "       ...,\n",
            "       [1.660e+01, 2.808e+01, 1.083e+02, ..., 1.418e-01, 2.218e-01,\n",
            "        7.820e-02],\n",
            "       [2.060e+01, 2.933e+01, 1.401e+02, ..., 2.650e-01, 4.087e-01,\n",
            "        1.240e-01],\n",
            "       [7.760e+00, 2.454e+01, 4.792e+01, ..., 0.000e+00, 2.871e-01,\n",
            "        7.039e-02]]), 'target': array([0, 0, 0, 0, 0, 0, 0, 0, 0, 0, 0, 0, 0, 0, 0, 0, 0, 0, 0, 1, 1, 1,\n",
            "       0, 0, 0, 0, 0, 0, 0, 0, 0, 0, 0, 0, 0, 0, 0, 1, 0, 0, 0, 0, 0, 0,\n",
            "       0, 0, 1, 0, 1, 1, 1, 1, 1, 0, 0, 1, 0, 0, 1, 1, 1, 1, 0, 1, 0, 0,\n",
            "       1, 1, 1, 1, 0, 1, 0, 0, 1, 0, 1, 0, 0, 1, 1, 1, 0, 0, 1, 0, 0, 0,\n",
            "       1, 1, 1, 0, 1, 1, 0, 0, 1, 1, 1, 0, 0, 1, 1, 1, 1, 0, 1, 1, 0, 1,\n",
            "       1, 1, 1, 1, 1, 1, 1, 0, 0, 0, 1, 0, 0, 1, 1, 1, 0, 0, 1, 0, 1, 0,\n",
            "       0, 1, 0, 0, 1, 1, 0, 1, 1, 0, 1, 1, 1, 1, 0, 1, 1, 1, 1, 1, 1, 1,\n",
            "       1, 1, 0, 1, 1, 1, 1, 0, 0, 1, 0, 1, 1, 0, 0, 1, 1, 0, 0, 1, 1, 1,\n",
            "       1, 0, 1, 1, 0, 0, 0, 1, 0, 1, 0, 1, 1, 1, 0, 1, 1, 0, 0, 1, 0, 0,\n",
            "       0, 0, 1, 0, 0, 0, 1, 0, 1, 0, 1, 1, 0, 1, 0, 0, 0, 0, 1, 1, 0, 0,\n",
            "       1, 1, 1, 0, 1, 1, 1, 1, 1, 0, 0, 1, 1, 0, 1, 1, 0, 0, 1, 0, 1, 1,\n",
            "       1, 1, 0, 1, 1, 1, 1, 1, 0, 1, 0, 0, 0, 0, 0, 0, 0, 0, 0, 0, 0, 0,\n",
            "       0, 0, 1, 1, 1, 1, 1, 1, 0, 1, 0, 1, 1, 0, 1, 1, 0, 1, 0, 0, 1, 1,\n",
            "       1, 1, 1, 1, 1, 1, 1, 1, 1, 1, 1, 0, 1, 1, 0, 1, 0, 1, 1, 1, 1, 1,\n",
            "       1, 1, 1, 1, 1, 1, 1, 1, 1, 0, 1, 1, 1, 0, 1, 0, 1, 1, 1, 1, 0, 0,\n",
            "       0, 1, 1, 1, 1, 0, 1, 0, 1, 0, 1, 1, 1, 0, 1, 1, 1, 1, 1, 1, 1, 0,\n",
            "       0, 0, 1, 1, 1, 1, 1, 1, 1, 1, 1, 1, 1, 0, 0, 1, 0, 0, 0, 1, 0, 0,\n",
            "       1, 1, 1, 1, 1, 0, 1, 1, 1, 1, 1, 0, 1, 1, 1, 0, 1, 1, 0, 0, 1, 1,\n",
            "       1, 1, 1, 1, 0, 1, 1, 1, 1, 1, 1, 1, 0, 1, 1, 1, 1, 1, 0, 1, 1, 0,\n",
            "       1, 1, 1, 1, 1, 1, 1, 1, 1, 1, 1, 1, 0, 1, 0, 0, 1, 0, 1, 1, 1, 1,\n",
            "       1, 0, 1, 1, 0, 1, 0, 1, 1, 0, 1, 0, 1, 1, 1, 1, 1, 1, 1, 1, 0, 0,\n",
            "       1, 1, 1, 1, 1, 1, 0, 1, 1, 1, 1, 1, 1, 1, 1, 1, 1, 0, 1, 1, 1, 1,\n",
            "       1, 1, 1, 0, 1, 0, 1, 1, 0, 1, 1, 1, 1, 1, 0, 0, 1, 0, 1, 0, 1, 1,\n",
            "       1, 1, 1, 0, 1, 1, 0, 1, 0, 1, 0, 0, 1, 1, 1, 0, 1, 1, 1, 1, 1, 1,\n",
            "       1, 1, 1, 1, 1, 0, 1, 0, 0, 1, 1, 1, 1, 1, 1, 1, 1, 1, 1, 1, 1, 1,\n",
            "       1, 1, 1, 1, 1, 1, 1, 1, 1, 1, 1, 1, 0, 0, 0, 0, 0, 0, 1]), 'target_names': array(['malignant', 'benign'], dtype='<U9'), 'DESCR': '.. _breast_cancer_dataset:\\n\\nBreast cancer wisconsin (diagnostic) dataset\\n--------------------------------------------\\n\\n**Data Set Characteristics:**\\n\\n    :Number of Instances: 569\\n\\n    :Number of Attributes: 30 numeric, predictive attributes and the class\\n\\n    :Attribute Information:\\n        - radius (mean of distances from center to points on the perimeter)\\n        - texture (standard deviation of gray-scale values)\\n        - perimeter\\n        - area\\n        - smoothness (local variation in radius lengths)\\n        - compactness (perimeter^2 / area - 1.0)\\n        - concavity (severity of concave portions of the contour)\\n        - concave points (number of concave portions of the contour)\\n        - symmetry \\n        - fractal dimension (\"coastline approximation\" - 1)\\n\\n        The mean, standard error, and \"worst\" or largest (mean of the three\\n        largest values) of these features were computed for each image,\\n        resulting in 30 features.  For instance, field 3 is Mean Radius, field\\n        13 is Radius SE, field 23 is Worst Radius.\\n\\n        - class:\\n                - WDBC-Malignant\\n                - WDBC-Benign\\n\\n    :Summary Statistics:\\n\\n    ===================================== ====== ======\\n                                           Min    Max\\n    ===================================== ====== ======\\n    radius (mean):                        6.981  28.11\\n    texture (mean):                       9.71   39.28\\n    perimeter (mean):                     43.79  188.5\\n    area (mean):                          143.5  2501.0\\n    smoothness (mean):                    0.053  0.163\\n    compactness (mean):                   0.019  0.345\\n    concavity (mean):                     0.0    0.427\\n    concave points (mean):                0.0    0.201\\n    symmetry (mean):                      0.106  0.304\\n    fractal dimension (mean):             0.05   0.097\\n    radius (standard error):              0.112  2.873\\n    texture (standard error):             0.36   4.885\\n    perimeter (standard error):           0.757  21.98\\n    area (standard error):                6.802  542.2\\n    smoothness (standard error):          0.002  0.031\\n    compactness (standard error):         0.002  0.135\\n    concavity (standard error):           0.0    0.396\\n    concave points (standard error):      0.0    0.053\\n    symmetry (standard error):            0.008  0.079\\n    fractal dimension (standard error):   0.001  0.03\\n    radius (worst):                       7.93   36.04\\n    texture (worst):                      12.02  49.54\\n    perimeter (worst):                    50.41  251.2\\n    area (worst):                         185.2  4254.0\\n    smoothness (worst):                   0.071  0.223\\n    compactness (worst):                  0.027  1.058\\n    concavity (worst):                    0.0    1.252\\n    concave points (worst):               0.0    0.291\\n    symmetry (worst):                     0.156  0.664\\n    fractal dimension (worst):            0.055  0.208\\n    ===================================== ====== ======\\n\\n    :Missing Attribute Values: None\\n\\n    :Class Distribution: 212 - Malignant, 357 - Benign\\n\\n    :Creator:  Dr. William H. Wolberg, W. Nick Street, Olvi L. Mangasarian\\n\\n    :Donor: Nick Street\\n\\n    :Date: November, 1995\\n\\nThis is a copy of UCI ML Breast Cancer Wisconsin (Diagnostic) datasets.\\nhttps://goo.gl/U2Uwz2\\n\\nFeatures are computed from a digitized image of a fine needle\\naspirate (FNA) of a breast mass.  They describe\\ncharacteristics of the cell nuclei present in the image.\\n\\nSeparating plane described above was obtained using\\nMultisurface Method-Tree (MSM-T) [K. P. Bennett, \"Decision Tree\\nConstruction Via Linear Programming.\" Proceedings of the 4th\\nMidwest Artificial Intelligence and Cognitive Science Society,\\npp. 97-101, 1992], a classification method which uses linear\\nprogramming to construct a decision tree.  Relevant features\\nwere selected using an exhaustive search in the space of 1-4\\nfeatures and 1-3 separating planes.\\n\\nThe actual linear program used to obtain the separating plane\\nin the 3-dimensional space is that described in:\\n[K. P. Bennett and O. L. Mangasarian: \"Robust Linear\\nProgramming Discrimination of Two Linearly Inseparable Sets\",\\nOptimization Methods and Software 1, 1992, 23-34].\\n\\nThis database is also available through the UW CS ftp server:\\n\\nftp ftp.cs.wisc.edu\\ncd math-prog/cpo-dataset/machine-learn/WDBC/\\n\\n.. topic:: References\\n\\n   - W.N. Street, W.H. Wolberg and O.L. Mangasarian. Nuclear feature extraction \\n     for breast tumor diagnosis. IS&T/SPIE 1993 International Symposium on \\n     Electronic Imaging: Science and Technology, volume 1905, pages 861-870,\\n     San Jose, CA, 1993.\\n   - O.L. Mangasarian, W.N. Street and W.H. Wolberg. Breast cancer diagnosis and \\n     prognosis via linear programming. Operations Research, 43(4), pages 570-577, \\n     July-August 1995.\\n   - W.H. Wolberg, W.N. Street, and O.L. Mangasarian. Machine learning techniques\\n     to diagnose breast cancer from fine-needle aspirates. Cancer Letters 77 (1994) \\n     163-171.', 'feature_names': array(['mean radius', 'mean texture', 'mean perimeter', 'mean area',\n",
            "       'mean smoothness', 'mean compactness', 'mean concavity',\n",
            "       'mean concave points', 'mean symmetry', 'mean fractal dimension',\n",
            "       'radius error', 'texture error', 'perimeter error', 'area error',\n",
            "       'smoothness error', 'compactness error', 'concavity error',\n",
            "       'concave points error', 'symmetry error',\n",
            "       'fractal dimension error', 'worst radius', 'worst texture',\n",
            "       'worst perimeter', 'worst area', 'worst smoothness',\n",
            "       'worst compactness', 'worst concavity', 'worst concave points',\n",
            "       'worst symmetry', 'worst fractal dimension'], dtype='<U23'), 'filename': '/usr/local/lib/python3.6/dist-packages/sklearn/datasets/data/breast_cancer.csv'}\n",
            "['malignant', 'benign']\n"
          ],
          "name": "stdout"
        },
        {
          "output_type": "error",
          "ename": "NameError",
          "evalue": "ignored",
          "traceback": [
            "\u001b[0;31m---------------------------------------------------------------------------\u001b[0m",
            "\u001b[0;31mNameError\u001b[0m                                 Traceback (most recent call last)",
            "\u001b[0;32m<ipython-input-50-527fc8cfa2fe>\u001b[0m in \u001b[0;36m<module>\u001b[0;34m()\u001b[0m\n\u001b[1;32m     15\u001b[0m \u001b[0;34m\u001b[0m\u001b[0m\n\u001b[1;32m     16\u001b[0m \u001b[0;31m#BC_Data.target[[10, 50, 85]]\u001b[0m\u001b[0;34m\u001b[0m\u001b[0;34m\u001b[0m\u001b[0;34m\u001b[0m\u001b[0m\n\u001b[0;32m---> 17\u001b[0;31m \u001b[0mn_classes\u001b[0m \u001b[0;34m=\u001b[0m \u001b[0mdata\u001b[0m\u001b[0;34m.\u001b[0m\u001b[0mtarget\u001b[0m\u001b[0;34m.\u001b[0m\u001b[0msize\u001b[0m\u001b[0;34m\u001b[0m\u001b[0;34m\u001b[0m\u001b[0m\n\u001b[0m\u001b[1;32m     18\u001b[0m \u001b[0;34m\u001b[0m\u001b[0m\n\u001b[1;32m     19\u001b[0m \u001b[0mprint\u001b[0m\u001b[0;34m(\u001b[0m\u001b[0;34m'No of Classes = :'\u001b[0m\u001b[0;34m,\u001b[0m \u001b[0mn_classes\u001b[0m\u001b[0;34m)\u001b[0m\u001b[0;34m\u001b[0m\u001b[0;34m\u001b[0m\u001b[0m\n",
            "\u001b[0;31mNameError\u001b[0m: name 'data' is not defined"
          ]
        }
      ]
    },
    {
      "cell_type": "code",
      "metadata": {
        "id": "rMiAbKbWyYV2",
        "outputId": "a2064d20-5186-4485-8332-e1d75499afcb",
        "colab": {
          "base_uri": "https://localhost:8080/"
        }
      },
      "source": [
        "#Applying diabetes Data\n",
        "from sklearn.datasets import load_diabetes\n",
        "import sklearn.datasets\n",
        "\n",
        "\n",
        "D_Data=load_diabetes()\n",
        "\n",
        "print(D_Data)\n",
        "\n",
        "X = D_Data.data\n",
        "\n",
        "y= D_Data.target\n",
        "\n",
        "#pprint(list(D_Data.target_names))\n",
        "\n",
        "#BC_Data.target[[10, 50, 85]]\n",
        "n_classes = D_Data.target.size\n",
        "\n",
        "print('No of Classes = :', n_classes)\n",
        "\n",
        "#list(data.target_names)\n",
        "\n",
        "\n",
        "#Applying\n",
        "#Instantiante the Method (KNeighborsClassifier)\n",
        "k=[2,7,10,5]\n",
        "for i in k:\n",
        "  print('n_neighbors=:',i)\n",
        "  \n",
        "  KN=KNeighborsClassifier(n_neighbors=i)\n",
        "\n",
        "  #print(KN)\n",
        "\n",
        "  #Fit the data\n",
        "  KN.fit(X,y)\n",
        "\n",
        "  #Predict\n",
        "  y_predict=KN.predict(X)\n",
        "\n",
        "  print('Predict =:', y_predict)\n",
        "\n",
        "  print('Score', accuracy_score(y, y_predict))\n",
        "\n",
        "#With n_neighbors=7 we have a score of Score 94.37% \n",
        "#We can vary n_neighbors and enhnce the accuracy on the target data"
      ],
      "execution_count": 54,
      "outputs": [
        {
          "output_type": "stream",
          "text": [
            "{'data': array([[ 0.03807591,  0.05068012,  0.06169621, ..., -0.00259226,\n",
            "         0.01990842, -0.01764613],\n",
            "       [-0.00188202, -0.04464164, -0.05147406, ..., -0.03949338,\n",
            "        -0.06832974, -0.09220405],\n",
            "       [ 0.08529891,  0.05068012,  0.04445121, ..., -0.00259226,\n",
            "         0.00286377, -0.02593034],\n",
            "       ...,\n",
            "       [ 0.04170844,  0.05068012, -0.01590626, ..., -0.01107952,\n",
            "        -0.04687948,  0.01549073],\n",
            "       [-0.04547248, -0.04464164,  0.03906215, ...,  0.02655962,\n",
            "         0.04452837, -0.02593034],\n",
            "       [-0.04547248, -0.04464164, -0.0730303 , ..., -0.03949338,\n",
            "        -0.00421986,  0.00306441]]), 'target': array([151.,  75., 141., 206., 135.,  97., 138.,  63., 110., 310., 101.,\n",
            "        69., 179., 185., 118., 171., 166., 144.,  97., 168.,  68.,  49.,\n",
            "        68., 245., 184., 202., 137.,  85., 131., 283., 129.,  59., 341.,\n",
            "        87.,  65., 102., 265., 276., 252.,  90., 100.,  55.,  61.,  92.,\n",
            "       259.,  53., 190., 142.,  75., 142., 155., 225.,  59., 104., 182.,\n",
            "       128.,  52.,  37., 170., 170.,  61., 144.,  52., 128.,  71., 163.,\n",
            "       150.,  97., 160., 178.,  48., 270., 202., 111.,  85.,  42., 170.,\n",
            "       200., 252., 113., 143.,  51.,  52., 210.,  65., 141.,  55., 134.,\n",
            "        42., 111.,  98., 164.,  48.,  96.,  90., 162., 150., 279.,  92.,\n",
            "        83., 128., 102., 302., 198.,  95.,  53., 134., 144., 232.,  81.,\n",
            "       104.,  59., 246., 297., 258., 229., 275., 281., 179., 200., 200.,\n",
            "       173., 180.,  84., 121., 161.,  99., 109., 115., 268., 274., 158.,\n",
            "       107.,  83., 103., 272.,  85., 280., 336., 281., 118., 317., 235.,\n",
            "        60., 174., 259., 178., 128.,  96., 126., 288.,  88., 292.,  71.,\n",
            "       197., 186.,  25.,  84.,  96., 195.,  53., 217., 172., 131., 214.,\n",
            "        59.,  70., 220., 268., 152.,  47.,  74., 295., 101., 151., 127.,\n",
            "       237., 225.,  81., 151., 107.,  64., 138., 185., 265., 101., 137.,\n",
            "       143., 141.,  79., 292., 178.,  91., 116.,  86., 122.,  72., 129.,\n",
            "       142.,  90., 158.,  39., 196., 222., 277.,  99., 196., 202., 155.,\n",
            "        77., 191.,  70.,  73.,  49.,  65., 263., 248., 296., 214., 185.,\n",
            "        78.,  93., 252., 150.,  77., 208.,  77., 108., 160.,  53., 220.,\n",
            "       154., 259.,  90., 246., 124.,  67.,  72., 257., 262., 275., 177.,\n",
            "        71.,  47., 187., 125.,  78.,  51., 258., 215., 303., 243.,  91.,\n",
            "       150., 310., 153., 346.,  63.,  89.,  50.,  39., 103., 308., 116.,\n",
            "       145.,  74.,  45., 115., 264.,  87., 202., 127., 182., 241.,  66.,\n",
            "        94., 283.,  64., 102., 200., 265.,  94., 230., 181., 156., 233.,\n",
            "        60., 219.,  80.,  68., 332., 248.,  84., 200.,  55.,  85.,  89.,\n",
            "        31., 129.,  83., 275.,  65., 198., 236., 253., 124.,  44., 172.,\n",
            "       114., 142., 109., 180., 144., 163., 147.,  97., 220., 190., 109.,\n",
            "       191., 122., 230., 242., 248., 249., 192., 131., 237.,  78., 135.,\n",
            "       244., 199., 270., 164.,  72.,  96., 306.,  91., 214.,  95., 216.,\n",
            "       263., 178., 113., 200., 139., 139.,  88., 148.,  88., 243.,  71.,\n",
            "        77., 109., 272.,  60.,  54., 221.,  90., 311., 281., 182., 321.,\n",
            "        58., 262., 206., 233., 242., 123., 167.,  63., 197.,  71., 168.,\n",
            "       140., 217., 121., 235., 245.,  40.,  52., 104., 132.,  88.,  69.,\n",
            "       219.,  72., 201., 110.,  51., 277.,  63., 118.,  69., 273., 258.,\n",
            "        43., 198., 242., 232., 175.,  93., 168., 275., 293., 281.,  72.,\n",
            "       140., 189., 181., 209., 136., 261., 113., 131., 174., 257.,  55.,\n",
            "        84.,  42., 146., 212., 233.,  91., 111., 152., 120.,  67., 310.,\n",
            "        94., 183.,  66., 173.,  72.,  49.,  64.,  48., 178., 104., 132.,\n",
            "       220.,  57.]), 'DESCR': '.. _diabetes_dataset:\\n\\nDiabetes dataset\\n----------------\\n\\nTen baseline variables, age, sex, body mass index, average blood\\npressure, and six blood serum measurements were obtained for each of n =\\n442 diabetes patients, as well as the response of interest, a\\nquantitative measure of disease progression one year after baseline.\\n\\n**Data Set Characteristics:**\\n\\n  :Number of Instances: 442\\n\\n  :Number of Attributes: First 10 columns are numeric predictive values\\n\\n  :Target: Column 11 is a quantitative measure of disease progression one year after baseline\\n\\n  :Attribute Information:\\n      - Age\\n      - Sex\\n      - Body mass index\\n      - Average blood pressure\\n      - S1\\n      - S2\\n      - S3\\n      - S4\\n      - S5\\n      - S6\\n\\nNote: Each of these 10 feature variables have been mean centered and scaled by the standard deviation times `n_samples` (i.e. the sum of squares of each column totals 1).\\n\\nSource URL:\\nhttps://www4.stat.ncsu.edu/~boos/var.select/diabetes.html\\n\\nFor more information see:\\nBradley Efron, Trevor Hastie, Iain Johnstone and Robert Tibshirani (2004) \"Least Angle Regression,\" Annals of Statistics (with discussion), 407-499.\\n(https://web.stanford.edu/~hastie/Papers/LARS/LeastAngle_2002.pdf)', 'feature_names': ['age', 'sex', 'bmi', 'bp', 's1', 's2', 's3', 's4', 's5', 's6'], 'data_filename': '/usr/local/lib/python3.6/dist-packages/sklearn/datasets/data/diabetes_data.csv.gz', 'target_filename': '/usr/local/lib/python3.6/dist-packages/sklearn/datasets/data/diabetes_target.csv.gz'}\n",
            "No of Classes = : 442\n",
            "n_neighbors=: 2\n",
            "Predict =: [151.  63. 141. 200.  79.  97.  72.  63. 110.  52. 101.  55.  96. 185.\n",
            "  59. 171. 166. 144.  93. 115.  68.  43.  68. 245. 147.  61.  85.  78.\n",
            " 131. 202. 103.  48. 259.  65.  63.  87. 166.  88. 186.  42. 100.  55.\n",
            "  58.  92. 174.  47. 190. 140.  75. 126. 121. 127.  59.  50. 113. 111.\n",
            "  52.  37.  87. 170.  61. 126.  47. 128.  71. 107. 111.  83.  53. 155.\n",
            "  48. 270. 170.  51.  65.  42.  67.  69. 182.  68.  73.  51.  52. 190.\n",
            "  65.  95.  55. 134.  39. 111.  93. 164.  48.  59.  90.  68. 150. 128.\n",
            "  92.  83.  95. 102. 182. 122.  95.  53. 134. 140. 208.  81.  47.  59.\n",
            " 129. 297. 258. 137. 275. 155. 163. 153.  97. 173. 180.  84.  25. 161.\n",
            "  85.  91. 115. 173. 243. 134.  84.  72. 103. 265.  85. 195. 321. 281.\n",
            " 118. 306. 232.  59. 122. 259. 178. 128.  71. 126. 109.  88. 222.  71.\n",
            " 197. 186.  25.  84.  53. 195.  53. 217.  55. 131. 148.  59.  70. 220.\n",
            " 248. 152.  47.  74. 295.  72. 151. 127. 232. 225.  59. 151. 107.  64.\n",
            " 138. 185. 265.  58.  68.  97.  67.  79.  66. 129.  75. 116.  68. 122.\n",
            "  59.  91.  95.  90.  73.  39. 196. 212. 124.  52. 122. 166. 155.  77.\n",
            "  59.  70.  73.  49.  65. 263. 248. 236.  93. 150.  47.  93. 219. 140.\n",
            "  74. 208.  49. 102. 160.  39. 220.  66. 122.  90. 202. 124.  67.  72.\n",
            "  77.  95. 275. 107.  71.  47.  67. 114.  64.  51. 121. 198. 246. 243.\n",
            "  91. 150. 277.  49. 128.  63.  89.  50.  39. 103. 275. 116.  83.  42.\n",
            "  39. 115. 180.  72. 202. 118. 182. 241.  66.  42. 141.  64. 102.  88.\n",
            " 237.  94. 219.  42. 156. 225.  48. 219.  75.  68. 275. 236.  65. 200.\n",
            "  47.  53.  65.  31. 129.  83. 275.  65. 198. 236. 138. 124.  44. 172.\n",
            "  37. 100. 109. 164.  68. 163. 147.  59. 123.  67.  73. 166. 121. 230.\n",
            " 242. 241. 122. 192. 111. 237.  78.  88. 122.  71. 258. 129.  71.  96.\n",
            " 192.  91.  93.  95. 113. 118. 118. 113. 200. 139. 139.  88.  72.  61.\n",
            " 243.  71.  65. 109. 186.  49.  54. 185.  90. 129.  66.  98. 321.  58.\n",
            "  94. 206. 233. 233. 123. 167.  63. 197.  53. 168. 140. 217. 121. 235.\n",
            " 235.  40.  52.  94. 132.  88.  69.  44.  72. 142.  53.  51. 277.  63.\n",
            " 118.  69. 152. 168.  43. 198. 128. 178. 175.  93.  89. 275.  52. 151.\n",
            "  65. 140. 189. 171. 111. 136. 261. 113. 131. 151. 109.  55.  84.  42.\n",
            "  50. 212. 186.  91. 111.  37. 100.  67. 264.  59. 183.  66. 173.  52.\n",
            "  49.  64.  48. 178.  84.  83. 151.  57.]\n",
            "Score 0.49095022624434387\n",
            "n_neighbors=: 7\n",
            "Predict =: [127.  52.  83.  93.  50.  61.  43.  63.  83.  52.  85.  55.  59.  42.\n",
            "  59.  91.  48. 122.  64.  25.  42.  43. 113. 310.  97.  58.  55.  55.\n",
            "  31.  66.  68.  59. 232.  64.  31.  53.  48.  25. 139.  42. 100.  55.\n",
            "  58.  39. 151.  47.  25. 134.  47. 101.  25.  83.  59.  49.  59.  48.\n",
            "  52.  37.  87.  69.  61.  58.  39.  64.  53.  91.  51.  42.  88.  40.\n",
            "  48. 104.  69.  51.  65.  42.  44.  55.  93.  68.  67.  42.  52.  25.\n",
            "  65.  59.  43.  59.  39.  48.  48.  91.  48.  48.  51.  68. 129. 109.\n",
            "  44.  79.  67.  65.  59. 122.  95.  88.  69.  91. 150.  81.  44.  59.\n",
            "  59. 120. 215.  68. 275. 155.  84.  49.  25.  66. 122.  84.  25.  58.\n",
            "  48.  51.  51. 155. 131.  51.  51.  43.  60. 275.  48. 195. 275.  99.\n",
            " 178. 268. 144.  59. 122.  95. 107. 275.  53.  58. 281.  25. 120.  53.\n",
            "  97. 139.  25.  42.  53. 195.  31. 139.  55. 131.  59.  59.  71. 150.\n",
            " 100. 109.  39.  31. 180.  70.  67.  72. 177. 164.  59.  83.  58.  59.\n",
            " 122.  71.  52.  58.  68.  37.  67.  49.  50.  53.  53.  84.  25. 122.\n",
            "  49. 178.  95.  66.  49.  39.  69. 122. 124.  52.  51. 166. 150.  77.\n",
            "  59.  52.  73.  48.  37. 131. 180. 143. 214.  68.  47. 214.  44.  69.\n",
            "  42. 150.  43.  66.  64.  39. 116.  50.  84.  59. 281.  77.  67.  72.\n",
            "  77.  67. 275.  65.  71.  44.  44.  65.  64.  48. 121.  67. 220. 222.\n",
            "  91. 173. 310.  49. 275.  54.  81.  50.  39.  48. 275.  43.  55.  42.\n",
            "  39.  95. 275.  39.  44.  77.  31. 120.  50.  42.  67.  40.  51.  44.\n",
            " 178.  74.  67.  31.  47. 151.  48.  67.  63.  68. 275.  67.  37. 109.\n",
            "  47.  53.  63.  31.  71.  53. 275.  65. 109.  67.  63. 124.  44.  81.\n",
            "  65.  84. 109. 115.  25. 275.  52.  72. 111.  67.  49.  48.  67. 248.\n",
            " 248. 150.  67. 122.  51.  70.  52.  53.  91.  53. 220.  91.  71.  52.\n",
            " 121.  77.  64.  78.  48. 178. 178.  48.  59.  51. 131.  51.  72.  55.\n",
            " 243.  71.  37.  90. 100.  49.  47.  61.  42. 122.  66.  49. 263.  58.\n",
            "  42.  66.  68. 178.  94.  52.  52. 150.  42.  68.  97. 178. 121.  91.\n",
            "  51.  40.  25.  55. 275.  44.  63.  44.  48.  31.  53.  47. 123.  42.\n",
            "  39.  59. 132.  93.  71. 127.  78. 150.  48.  48.  89. 275.  52. 281.\n",
            "  51.  55.  66. 163.  84.  31. 109.  60. 116.  91. 109.  55.  72.  42.\n",
            "  50. 122.  96.  91.  42.  37. 100.  44. 310.  59.  83.  66. 150.  52.\n",
            "  49.  53.  59. 178.  51.  44.  52.  52.]\n",
            "Score 0.12895927601809956\n",
            "n_neighbors=: 10\n",
            "Predict =: [118.  90.  83. 214.  25.  37.  43.  63.  83.  52.  85.  51.  25.  42.\n",
            "  52.  91.  48. 122.  25.  25.  42.  39. 113. 310.  97.  58.  55.  55.\n",
            "  31. 200.  55.  59. 174.  60.  31.  53.  48.  25. 138.  42.  81.  55.\n",
            "  58.  72. 151.  47.  25.  74.  47. 101.  25.  83.  59.  49.  49.  48.\n",
            "  52.  37.  87.  69.  37.  58.  39.  53.  53.  91.  51.  42.  88.  25.\n",
            "  49. 104.  69.  51.  65.  42.  44.  68.  25.  59.  67. 111.  52.  25.\n",
            "  63.  59.  71.  59.  42.  72.  48.  91.  48.  59.  51.  53. 275. 275.\n",
            "  44. 214.  67.  39.  59. 111.  25.  88.  69.  64. 111.  81.  44.  59.\n",
            " 113. 100. 195.  68. 275. 120.  84.  49.  25.  66. 122.  84.  25.  58.\n",
            "  48.  51.  51. 150. 131.  51.  51.  71.  60. 275.  59. 281. 275. 281.\n",
            " 178. 268. 122.  52. 259.  52. 107. 275.  53.  58. 281.  25. 100.  53.\n",
            "  97. 100.  25.  42.  53.  66.  31. 139.  55. 275.  59.  59.  71. 150.\n",
            " 100. 109.  39.  31. 310.  71.  53.  72. 178. 150.  59.  83.  58.  59.\n",
            "  91. 178. 275.  58.  68.  37.  59.  49.  50.  53.  47.  84. 200. 111.\n",
            "  72. 178.  31.  66.  49.  39.  69. 122. 124. 265. 111. 275. 150.  77.\n",
            "  52.  52.  49.  72.  37. 131. 138.  67. 214.  68.  47. 214.  44.  55.\n",
            "  59. 150.  71.  65.  64.  39.  84.  50.  51.  59. 281.  77.  67.  72.\n",
            "  77.  67. 275.  65.  71.  44.  43.  65.  59.  48. 121.  67. 281. 186.\n",
            "  91. 173. 310.  48. 275.  53.  81.  49.  39.  87. 275.  43.  55.  42.\n",
            "  39.  78. 275.  39.  44. 178.  25. 120.  50.  42.  67.  40.  51.  44.\n",
            "  65.  42.  67.  25.  47.  83.  48.  67.  63.  68. 275.  67.  59.  55.\n",
            "  44.  42.  63.  25.  83.  44. 275.  65.  66.  67.  63.  51.  44.  81.\n",
            "  65.  84. 109.  91. 168. 275.  52.  72. 111.  67.  49.  48.  67. 248.\n",
            " 248. 150.  67. 121.  42.  70.  52.  42.  91.  53. 275.  91.  71.  52.\n",
            " 121.  71. 214.  67.  48. 178. 178.  48.  59.  51. 121.  42.  59.  47.\n",
            " 310.  71.  37.  90. 100.  44.  47.  61.  59. 122.  66.  49. 263.  58.\n",
            "  42.  66.  68. 178.  94.  52.  52. 150.  42.  25.  97.  65.  67.  91.\n",
            "  51.  37.  25.  55. 275.  53.  63.  44.  49.  31.  53.  31. 310.  31.\n",
            "  39.  68. 132.  52.  71.  66.  78. 178.  48.  48.  81. 275.  52. 281.\n",
            "  51.  55.  66.  91. 235.  31. 109.  59. 139.  91. 104.  55.  72.  42.\n",
            "  50. 122.  96.  91.  42.  37. 100.  44. 310.  59. 214.  44. 150.  48.\n",
            "  49.  31.  59. 178.  51.  44.  52.  52.]\n",
            "Score 0.10180995475113122\n",
            "n_neighbors=: 5\n",
            "Predict =: [127.  52. 110. 151.  50.  61.  43.  63.  90.  52.  85.  55.  59.  42.\n",
            "  59.  91.  48. 138.  64.  88.  42.  43. 113. 242.  97.  61.  85.  78.\n",
            "  31.  66. 103.  59. 232.  64.  31.  53.  48.  88. 186.  42. 100.  55.\n",
            "  58.  39. 174.  47. 125. 134.  75. 107.  25. 118.  59.  49.  60.  48.\n",
            "  52.  37.  87.  69.  61.  58.  39.  64.  71. 107.  51.  51.  53.  42.\n",
            "  48. 155.  69.  51.  65.  42.  67.  55. 131.  68.  67.  51.  52.  25.\n",
            "  63.  70.  55.  59.  39.  48.  72.  95.  48.  48.  51.  68. 129. 109.\n",
            "  44.  79.  67.  65.  59. 122.  95.  42.  69.  91. 150.  81.  47.  59.\n",
            "  59. 123. 258.  68. 275. 155.  84.  72.  25.  66. 174.  84.  25.  58.\n",
            "  85.  54.  51. 155. 131.  51.  51.  43.  60. 275.  48. 195. 131.  99.\n",
            " 118. 192. 163.  59. 122.  95. 107. 275.  53. 101. 109.  72. 163.  71.\n",
            "  97. 186.  25.  51.  53. 195.  31. 139.  55. 131.  73.  42.  71. 150.\n",
            " 180. 109.  47.  42. 180.  71.  67.  72. 178. 173.  59. 151.  58.  59.\n",
            " 138.  71. 167.  58.  68.  37.  67.  49.  66.  71.  53.  84.  68. 122.\n",
            "  49.  91.  95.  90.  72.  39.  69. 122. 124.  52. 111. 166. 155.  77.\n",
            "  59.  70.  73.  49.  65. 131. 180. 143.  93.  68.  47. 214.  44.  69.\n",
            "  42. 150.  43.  66.  64.  39. 121.  50.  84.  59. 198.  77.  67.  72.\n",
            "  77.  67. 275.  65.  71.  47.  49.  72.  64.  51. 121.  67. 246. 222.\n",
            "  91. 173. 310.  49. 275.  54.  81.  50.  39.  48. 275.  43.  55.  42.\n",
            "  39.  95. 275.  39.  44. 118.  31. 120.  50.  42.  67.  59.  51.  44.\n",
            " 178.  74.  67.  42.  47. 151.  48.  67.  63.  68. 275.  67.  59. 109.\n",
            "  47.  53.  63.  31.  71.  53. 275.  65. 109. 143.  63. 124.  44.  81.\n",
            "  37.  84. 109. 115.  25. 144.  52.  72. 111.  67.  73. 166.  67. 220.\n",
            " 242. 197.  67. 122.  51. 109.  55.  39.  91.  71. 220. 111.  43.  63.\n",
            " 121.  77.  64.  78.  48. 118. 178. 104.  59.  51. 131.  53.  72.  55.\n",
            " 243.  71.  60.  90. 139.  49.  47.  85.  59. 122.  66.  49. 131.  58.\n",
            "  81. 146.  68. 178. 123.  52.  63. 150.  53. 144. 140. 185. 121.  91.\n",
            "  51.  40.  52.  55. 132.  44.  69.  44.  49.  31.  53.  51. 123.  42.\n",
            "  65.  59. 152.  93.  71. 127.  78. 163.  48.  48.  89. 275.  52. 151.\n",
            "  65.  91.  66. 163.  84.  85. 155.  68. 116.  91. 109.  55.  84.  42.\n",
            "  50. 122.  96.  91.  42.  37. 100.  60. 310.  59.  96.  66. 150.  52.\n",
            "  49.  64.  59.  91.  84.  44.  52.  57.]\n",
            "Score 0.1832579185520362\n"
          ],
          "name": "stdout"
        }
      ]
    },
    {
      "cell_type": "code",
      "metadata": {
        "id": "wfEozFKLk0EI",
        "outputId": "c32e4f2a-d853-4ba8-9ce4-c69cffa17b2e",
        "colab": {
          "base_uri": "https://localhost:8080/"
        }
      },
      "source": [
        "#Applying iris Data\n",
        "from sklearn.datasets import load_iris\n",
        "data_iris = load_iris()\n",
        "\n",
        "print(data_iris)\n",
        "\n",
        "X = data_iris.data\n",
        "\n",
        "y = data_iris.target\n",
        "\n",
        "pprint(list(data_iris.target_names))\n",
        "\n",
        "#BC_Data.target[[10, 50, 85]]\n",
        "n_classes = data_iris.target.size\n",
        "\n",
        "print('No of Classes = :', n_classes)\n",
        "\n",
        "#list(data.target_names)\n",
        "\n",
        "\n",
        "#Applying\n",
        "#Instantiante the Method (KNeighborsClassifier)\n",
        "k=[2,7,10,5]\n",
        "for i in k:\n",
        "  print('n_neighbors=:',i)\n",
        "  \n",
        "  KN=KNeighborsClassifier(n_neighbors=i)\n",
        "\n",
        "  #print(KN)\n",
        "\n",
        "  #Fit the data\n",
        "  KN.fit(X,y)\n",
        "\n",
        "  #Predict\n",
        "  y_predict=KN.predict(X)\n",
        "\n",
        "  print('Predict =:', y_predict)\n",
        "\n",
        "  print('Score', accuracy_score(y, y_predict))\n",
        "\n",
        "#With n_neighbors=7 we have a score of Score 97.3%\n",
        "\n",
        "#We can vary n_neighbors and enhnce the accuracy on the target data\n"
      ],
      "execution_count": 55,
      "outputs": [
        {
          "output_type": "stream",
          "text": [
            "{'data': array([[5.1, 3.5, 1.4, 0.2],\n",
            "       [4.9, 3. , 1.4, 0.2],\n",
            "       [4.7, 3.2, 1.3, 0.2],\n",
            "       [4.6, 3.1, 1.5, 0.2],\n",
            "       [5. , 3.6, 1.4, 0.2],\n",
            "       [5.4, 3.9, 1.7, 0.4],\n",
            "       [4.6, 3.4, 1.4, 0.3],\n",
            "       [5. , 3.4, 1.5, 0.2],\n",
            "       [4.4, 2.9, 1.4, 0.2],\n",
            "       [4.9, 3.1, 1.5, 0.1],\n",
            "       [5.4, 3.7, 1.5, 0.2],\n",
            "       [4.8, 3.4, 1.6, 0.2],\n",
            "       [4.8, 3. , 1.4, 0.1],\n",
            "       [4.3, 3. , 1.1, 0.1],\n",
            "       [5.8, 4. , 1.2, 0.2],\n",
            "       [5.7, 4.4, 1.5, 0.4],\n",
            "       [5.4, 3.9, 1.3, 0.4],\n",
            "       [5.1, 3.5, 1.4, 0.3],\n",
            "       [5.7, 3.8, 1.7, 0.3],\n",
            "       [5.1, 3.8, 1.5, 0.3],\n",
            "       [5.4, 3.4, 1.7, 0.2],\n",
            "       [5.1, 3.7, 1.5, 0.4],\n",
            "       [4.6, 3.6, 1. , 0.2],\n",
            "       [5.1, 3.3, 1.7, 0.5],\n",
            "       [4.8, 3.4, 1.9, 0.2],\n",
            "       [5. , 3. , 1.6, 0.2],\n",
            "       [5. , 3.4, 1.6, 0.4],\n",
            "       [5.2, 3.5, 1.5, 0.2],\n",
            "       [5.2, 3.4, 1.4, 0.2],\n",
            "       [4.7, 3.2, 1.6, 0.2],\n",
            "       [4.8, 3.1, 1.6, 0.2],\n",
            "       [5.4, 3.4, 1.5, 0.4],\n",
            "       [5.2, 4.1, 1.5, 0.1],\n",
            "       [5.5, 4.2, 1.4, 0.2],\n",
            "       [4.9, 3.1, 1.5, 0.2],\n",
            "       [5. , 3.2, 1.2, 0.2],\n",
            "       [5.5, 3.5, 1.3, 0.2],\n",
            "       [4.9, 3.6, 1.4, 0.1],\n",
            "       [4.4, 3. , 1.3, 0.2],\n",
            "       [5.1, 3.4, 1.5, 0.2],\n",
            "       [5. , 3.5, 1.3, 0.3],\n",
            "       [4.5, 2.3, 1.3, 0.3],\n",
            "       [4.4, 3.2, 1.3, 0.2],\n",
            "       [5. , 3.5, 1.6, 0.6],\n",
            "       [5.1, 3.8, 1.9, 0.4],\n",
            "       [4.8, 3. , 1.4, 0.3],\n",
            "       [5.1, 3.8, 1.6, 0.2],\n",
            "       [4.6, 3.2, 1.4, 0.2],\n",
            "       [5.3, 3.7, 1.5, 0.2],\n",
            "       [5. , 3.3, 1.4, 0.2],\n",
            "       [7. , 3.2, 4.7, 1.4],\n",
            "       [6.4, 3.2, 4.5, 1.5],\n",
            "       [6.9, 3.1, 4.9, 1.5],\n",
            "       [5.5, 2.3, 4. , 1.3],\n",
            "       [6.5, 2.8, 4.6, 1.5],\n",
            "       [5.7, 2.8, 4.5, 1.3],\n",
            "       [6.3, 3.3, 4.7, 1.6],\n",
            "       [4.9, 2.4, 3.3, 1. ],\n",
            "       [6.6, 2.9, 4.6, 1.3],\n",
            "       [5.2, 2.7, 3.9, 1.4],\n",
            "       [5. , 2. , 3.5, 1. ],\n",
            "       [5.9, 3. , 4.2, 1.5],\n",
            "       [6. , 2.2, 4. , 1. ],\n",
            "       [6.1, 2.9, 4.7, 1.4],\n",
            "       [5.6, 2.9, 3.6, 1.3],\n",
            "       [6.7, 3.1, 4.4, 1.4],\n",
            "       [5.6, 3. , 4.5, 1.5],\n",
            "       [5.8, 2.7, 4.1, 1. ],\n",
            "       [6.2, 2.2, 4.5, 1.5],\n",
            "       [5.6, 2.5, 3.9, 1.1],\n",
            "       [5.9, 3.2, 4.8, 1.8],\n",
            "       [6.1, 2.8, 4. , 1.3],\n",
            "       [6.3, 2.5, 4.9, 1.5],\n",
            "       [6.1, 2.8, 4.7, 1.2],\n",
            "       [6.4, 2.9, 4.3, 1.3],\n",
            "       [6.6, 3. , 4.4, 1.4],\n",
            "       [6.8, 2.8, 4.8, 1.4],\n",
            "       [6.7, 3. , 5. , 1.7],\n",
            "       [6. , 2.9, 4.5, 1.5],\n",
            "       [5.7, 2.6, 3.5, 1. ],\n",
            "       [5.5, 2.4, 3.8, 1.1],\n",
            "       [5.5, 2.4, 3.7, 1. ],\n",
            "       [5.8, 2.7, 3.9, 1.2],\n",
            "       [6. , 2.7, 5.1, 1.6],\n",
            "       [5.4, 3. , 4.5, 1.5],\n",
            "       [6. , 3.4, 4.5, 1.6],\n",
            "       [6.7, 3.1, 4.7, 1.5],\n",
            "       [6.3, 2.3, 4.4, 1.3],\n",
            "       [5.6, 3. , 4.1, 1.3],\n",
            "       [5.5, 2.5, 4. , 1.3],\n",
            "       [5.5, 2.6, 4.4, 1.2],\n",
            "       [6.1, 3. , 4.6, 1.4],\n",
            "       [5.8, 2.6, 4. , 1.2],\n",
            "       [5. , 2.3, 3.3, 1. ],\n",
            "       [5.6, 2.7, 4.2, 1.3],\n",
            "       [5.7, 3. , 4.2, 1.2],\n",
            "       [5.7, 2.9, 4.2, 1.3],\n",
            "       [6.2, 2.9, 4.3, 1.3],\n",
            "       [5.1, 2.5, 3. , 1.1],\n",
            "       [5.7, 2.8, 4.1, 1.3],\n",
            "       [6.3, 3.3, 6. , 2.5],\n",
            "       [5.8, 2.7, 5.1, 1.9],\n",
            "       [7.1, 3. , 5.9, 2.1],\n",
            "       [6.3, 2.9, 5.6, 1.8],\n",
            "       [6.5, 3. , 5.8, 2.2],\n",
            "       [7.6, 3. , 6.6, 2.1],\n",
            "       [4.9, 2.5, 4.5, 1.7],\n",
            "       [7.3, 2.9, 6.3, 1.8],\n",
            "       [6.7, 2.5, 5.8, 1.8],\n",
            "       [7.2, 3.6, 6.1, 2.5],\n",
            "       [6.5, 3.2, 5.1, 2. ],\n",
            "       [6.4, 2.7, 5.3, 1.9],\n",
            "       [6.8, 3. , 5.5, 2.1],\n",
            "       [5.7, 2.5, 5. , 2. ],\n",
            "       [5.8, 2.8, 5.1, 2.4],\n",
            "       [6.4, 3.2, 5.3, 2.3],\n",
            "       [6.5, 3. , 5.5, 1.8],\n",
            "       [7.7, 3.8, 6.7, 2.2],\n",
            "       [7.7, 2.6, 6.9, 2.3],\n",
            "       [6. , 2.2, 5. , 1.5],\n",
            "       [6.9, 3.2, 5.7, 2.3],\n",
            "       [5.6, 2.8, 4.9, 2. ],\n",
            "       [7.7, 2.8, 6.7, 2. ],\n",
            "       [6.3, 2.7, 4.9, 1.8],\n",
            "       [6.7, 3.3, 5.7, 2.1],\n",
            "       [7.2, 3.2, 6. , 1.8],\n",
            "       [6.2, 2.8, 4.8, 1.8],\n",
            "       [6.1, 3. , 4.9, 1.8],\n",
            "       [6.4, 2.8, 5.6, 2.1],\n",
            "       [7.2, 3. , 5.8, 1.6],\n",
            "       [7.4, 2.8, 6.1, 1.9],\n",
            "       [7.9, 3.8, 6.4, 2. ],\n",
            "       [6.4, 2.8, 5.6, 2.2],\n",
            "       [6.3, 2.8, 5.1, 1.5],\n",
            "       [6.1, 2.6, 5.6, 1.4],\n",
            "       [7.7, 3. , 6.1, 2.3],\n",
            "       [6.3, 3.4, 5.6, 2.4],\n",
            "       [6.4, 3.1, 5.5, 1.8],\n",
            "       [6. , 3. , 4.8, 1.8],\n",
            "       [6.9, 3.1, 5.4, 2.1],\n",
            "       [6.7, 3.1, 5.6, 2.4],\n",
            "       [6.9, 3.1, 5.1, 2.3],\n",
            "       [5.8, 2.7, 5.1, 1.9],\n",
            "       [6.8, 3.2, 5.9, 2.3],\n",
            "       [6.7, 3.3, 5.7, 2.5],\n",
            "       [6.7, 3. , 5.2, 2.3],\n",
            "       [6.3, 2.5, 5. , 1.9],\n",
            "       [6.5, 3. , 5.2, 2. ],\n",
            "       [6.2, 3.4, 5.4, 2.3],\n",
            "       [5.9, 3. , 5.1, 1.8]]), 'target': array([0, 0, 0, 0, 0, 0, 0, 0, 0, 0, 0, 0, 0, 0, 0, 0, 0, 0, 0, 0, 0, 0,\n",
            "       0, 0, 0, 0, 0, 0, 0, 0, 0, 0, 0, 0, 0, 0, 0, 0, 0, 0, 0, 0, 0, 0,\n",
            "       0, 0, 0, 0, 0, 0, 1, 1, 1, 1, 1, 1, 1, 1, 1, 1, 1, 1, 1, 1, 1, 1,\n",
            "       1, 1, 1, 1, 1, 1, 1, 1, 1, 1, 1, 1, 1, 1, 1, 1, 1, 1, 1, 1, 1, 1,\n",
            "       1, 1, 1, 1, 1, 1, 1, 1, 1, 1, 1, 1, 2, 2, 2, 2, 2, 2, 2, 2, 2, 2,\n",
            "       2, 2, 2, 2, 2, 2, 2, 2, 2, 2, 2, 2, 2, 2, 2, 2, 2, 2, 2, 2, 2, 2,\n",
            "       2, 2, 2, 2, 2, 2, 2, 2, 2, 2, 2, 2, 2, 2, 2, 2, 2, 2]), 'target_names': array(['setosa', 'versicolor', 'virginica'], dtype='<U10'), 'DESCR': '.. _iris_dataset:\\n\\nIris plants dataset\\n--------------------\\n\\n**Data Set Characteristics:**\\n\\n    :Number of Instances: 150 (50 in each of three classes)\\n    :Number of Attributes: 4 numeric, predictive attributes and the class\\n    :Attribute Information:\\n        - sepal length in cm\\n        - sepal width in cm\\n        - petal length in cm\\n        - petal width in cm\\n        - class:\\n                - Iris-Setosa\\n                - Iris-Versicolour\\n                - Iris-Virginica\\n                \\n    :Summary Statistics:\\n\\n    ============== ==== ==== ======= ===== ====================\\n                    Min  Max   Mean    SD   Class Correlation\\n    ============== ==== ==== ======= ===== ====================\\n    sepal length:   4.3  7.9   5.84   0.83    0.7826\\n    sepal width:    2.0  4.4   3.05   0.43   -0.4194\\n    petal length:   1.0  6.9   3.76   1.76    0.9490  (high!)\\n    petal width:    0.1  2.5   1.20   0.76    0.9565  (high!)\\n    ============== ==== ==== ======= ===== ====================\\n\\n    :Missing Attribute Values: None\\n    :Class Distribution: 33.3% for each of 3 classes.\\n    :Creator: R.A. Fisher\\n    :Donor: Michael Marshall (MARSHALL%PLU@io.arc.nasa.gov)\\n    :Date: July, 1988\\n\\nThe famous Iris database, first used by Sir R.A. Fisher. The dataset is taken\\nfrom Fisher\\'s paper. Note that it\\'s the same as in R, but not as in the UCI\\nMachine Learning Repository, which has two wrong data points.\\n\\nThis is perhaps the best known database to be found in the\\npattern recognition literature.  Fisher\\'s paper is a classic in the field and\\nis referenced frequently to this day.  (See Duda & Hart, for example.)  The\\ndata set contains 3 classes of 50 instances each, where each class refers to a\\ntype of iris plant.  One class is linearly separable from the other 2; the\\nlatter are NOT linearly separable from each other.\\n\\n.. topic:: References\\n\\n   - Fisher, R.A. \"The use of multiple measurements in taxonomic problems\"\\n     Annual Eugenics, 7, Part II, 179-188 (1936); also in \"Contributions to\\n     Mathematical Statistics\" (John Wiley, NY, 1950).\\n   - Duda, R.O., & Hart, P.E. (1973) Pattern Classification and Scene Analysis.\\n     (Q327.D83) John Wiley & Sons.  ISBN 0-471-22361-1.  See page 218.\\n   - Dasarathy, B.V. (1980) \"Nosing Around the Neighborhood: A New System\\n     Structure and Classification Rule for Recognition in Partially Exposed\\n     Environments\".  IEEE Transactions on Pattern Analysis and Machine\\n     Intelligence, Vol. PAMI-2, No. 1, 67-71.\\n   - Gates, G.W. (1972) \"The Reduced Nearest Neighbor Rule\".  IEEE Transactions\\n     on Information Theory, May 1972, 431-433.\\n   - See also: 1988 MLC Proceedings, 54-64.  Cheeseman et al\"s AUTOCLASS II\\n     conceptual clustering system finds 3 classes in the data.\\n   - Many, many more ...', 'feature_names': ['sepal length (cm)', 'sepal width (cm)', 'petal length (cm)', 'petal width (cm)'], 'filename': '/usr/local/lib/python3.6/dist-packages/sklearn/datasets/data/iris.csv'}\n",
            "['setosa', 'versicolor', 'virginica']\n",
            "No of Classes = : 150\n",
            "n_neighbors=: 2\n",
            "Predict =: [0 0 0 0 0 0 0 0 0 0 0 0 0 0 0 0 0 0 0 0 0 0 0 0 0 0 0 0 0 0 0 0 0 0 0 0 0\n",
            " 0 0 0 0 0 0 0 0 0 0 0 0 0 1 1 1 1 1 1 1 1 1 1 1 1 1 1 1 1 1 1 1 1 1 1 1 1\n",
            " 1 1 1 1 1 1 1 1 1 1 1 1 1 1 1 1 1 1 1 1 1 1 1 1 1 1 2 2 2 2 2 2 1 2 2 2 2\n",
            " 2 2 2 2 2 2 2 2 1 2 2 2 2 2 2 2 2 2 2 2 2 2 1 2 2 2 2 2 2 2 2 2 2 2 2 2 2\n",
            " 2 2]\n",
            "Score 0.98\n",
            "n_neighbors=: 7\n",
            "Predict =: [0 0 0 0 0 0 0 0 0 0 0 0 0 0 0 0 0 0 0 0 0 0 0 0 0 0 0 0 0 0 0 0 0 0 0 0 0\n",
            " 0 0 0 0 0 0 0 0 0 0 0 0 0 1 1 1 1 1 1 1 1 1 1 1 1 1 1 1 1 1 1 1 1 2 1 2 1\n",
            " 1 1 1 1 1 1 1 1 1 2 1 1 1 1 1 1 1 1 1 1 1 1 1 1 1 1 2 2 2 2 2 2 1 2 2 2 2\n",
            " 2 2 2 2 2 2 2 2 2 2 2 2 2 2 2 2 2 2 2 2 2 2 2 2 2 2 2 2 2 2 2 2 2 2 2 2 2\n",
            " 2 2]\n",
            "Score 0.9733333333333334\n",
            "n_neighbors=: 10\n",
            "Predict =: [0 0 0 0 0 0 0 0 0 0 0 0 0 0 0 0 0 0 0 0 0 0 0 0 0 0 0 0 0 0 0 0 0 0 0 0 0\n",
            " 0 0 0 0 0 0 0 0 0 0 0 0 0 1 1 1 1 1 1 1 1 1 1 1 1 1 1 1 1 1 1 1 1 1 1 1 1\n",
            " 1 1 1 1 1 1 1 1 1 2 1 1 1 1 1 1 1 1 1 1 1 1 1 1 1 1 2 2 2 2 2 2 1 2 2 2 2\n",
            " 2 2 2 2 2 2 2 2 2 2 2 2 2 2 2 2 2 2 2 2 2 2 2 2 2 2 2 1 2 2 2 2 2 2 2 2 2\n",
            " 2 2]\n",
            "Score 0.98\n",
            "n_neighbors=: 5\n",
            "Predict =: [0 0 0 0 0 0 0 0 0 0 0 0 0 0 0 0 0 0 0 0 0 0 0 0 0 0 0 0 0 0 0 0 0 0 0 0 0\n",
            " 0 0 0 0 0 0 0 0 0 0 0 0 0 1 1 1 1 1 1 1 1 1 1 1 1 1 1 1 1 1 1 1 1 2 1 2 1\n",
            " 1 1 1 1 1 1 1 1 1 2 1 1 1 1 1 1 1 1 1 1 1 1 1 1 1 1 2 2 2 2 2 2 1 2 2 2 2\n",
            " 2 2 2 2 2 2 2 2 1 2 2 2 2 2 2 2 2 2 2 2 2 2 2 2 2 2 2 2 2 2 2 2 2 2 2 2 2\n",
            " 2 2]\n",
            "Score 0.9666666666666667\n"
          ],
          "name": "stdout"
        }
      ]
    },
    {
      "cell_type": "code",
      "metadata": {
        "id": "49xcbRDq1UG2",
        "outputId": "22f89c54-03db-4290-94d5-6d832bf37c84",
        "colab": {
          "base_uri": "https://localhost:8080/"
        }
      },
      "source": [
        "#With Iris Data\n",
        "from sklearn.model_selection import train_test_split\n",
        "X1, y1 = load_iris(return_X_y=True)\n",
        "\n",
        "#38% as the propotion of data\n",
        "X1_train, X1_test, y1_train, y1_test = train_test_split(X1, y1, test_size=0.38, random_state=42)\n",
        "\n",
        "\n",
        "#Applying\n",
        "#Instantiante the Method (KNeighborsClassifier)\n",
        "k=[2,7,10,5]\n",
        "for i in k:\n",
        "  print('n_neighbors=:',i)\n",
        "  \n",
        "  KN=KNeighborsClassifier(n_neighbors=i)\n",
        "\n",
        "  #print(KN)\n",
        "\n",
        "  #Fit the data\n",
        "  KN.fit(X1_train,y1_train)\n",
        "\n",
        "  #Predict\n",
        "  y1_predict=KN.predict(X1_test)\n",
        "\n",
        "  print('The prediction =:', y1_predict)\n",
        "\n",
        "  print('The score = :', accuracy_score(y1_test, y1_predict))\n",
        "\n",
        "#With n_neighbors=10 we have a score of Score 98.2% \n",
        "#We can vary n_neighbors and enhance the accuracy on the target data"
      ],
      "execution_count": 62,
      "outputs": [
        {
          "output_type": "stream",
          "text": [
            "n_neighbors=: 2\n",
            "The prediction =: [1 0 2 1 1 0 1 2 1 1 2 0 0 0 0 1 2 1 1 2 0 2 0 2 2 2 2 2 0 0 0 0 1 0 0 2 1\n",
            " 0 0 0 2 1 1 0 0 1 1 2 1 2 1 2 1 0 2 1 0]\n",
            "The score = : 0.9824561403508771\n",
            "n_neighbors=: 7\n",
            "The prediction =: [1 0 2 1 1 0 1 2 1 1 2 0 0 0 0 1 2 1 1 2 0 2 0 2 2 2 2 2 0 0 0 0 1 0 0 2 1\n",
            " 0 0 0 2 1 1 0 0 1 1 2 1 2 1 2 1 0 2 1 0]\n",
            "The score = : 0.9824561403508771\n",
            "n_neighbors=: 10\n",
            "The prediction =: [1 0 2 1 1 0 1 2 1 1 2 0 0 0 0 1 2 1 1 2 0 2 0 2 2 2 2 2 0 0 0 0 1 0 0 2 1\n",
            " 0 0 0 2 1 1 0 0 1 1 2 1 2 1 2 1 0 2 1 0]\n",
            "The score = : 0.9824561403508771\n",
            "n_neighbors=: 5\n",
            "The prediction =: [1 0 2 1 1 0 1 2 1 1 2 0 0 0 0 1 2 1 1 2 0 2 0 2 2 2 2 2 0 0 0 0 1 0 0 2 1\n",
            " 0 0 0 2 1 1 0 0 1 1 2 1 2 1 2 1 0 2 1 0]\n",
            "The score = : 0.9824561403508771\n"
          ],
          "name": "stdout"
        }
      ]
    },
    {
      "cell_type": "code",
      "metadata": {
        "id": "C4PJNNiXsH8i",
        "outputId": "92c211c5-3373-4c45-b2fb-1482fca2c08c",
        "colab": {
          "base_uri": "https://localhost:8080/"
        }
      },
      "source": [
        "#Applying digits & linnerud data\n",
        "from sklearn.datasets import load_linnerud\n",
        "from sklearn import svm\n",
        "from sklearn import datasets, svm\n",
        "from sklearn.kernel_approximation import Nystroem\n",
        "\n",
        "#data_linnerud = load_linnerud()\n",
        "\n",
        "X, y = datasets.load_digits(n_class=10, return_X_y=True)\n",
        "data = X / 10.\n",
        "clf = svm.LinearSVC()\n",
        "feature_map_nystroem = Nystroem(gamma=.2,\n",
        "                                 random_state=1,\n",
        "                                 n_components=200)\n",
        "data_transformed = feature_map_nystroem.fit_transform(data)\n",
        "clf.fit(data_transformed, y)\n",
        "LinearSVC()\n",
        "clf.score(data_transformed, y)\n",
        "\n",
        "#Score de 98.27%"
      ],
      "execution_count": 86,
      "outputs": [
        {
          "output_type": "execute_result",
          "data": {
            "text/plain": [
              "0.9827490261547023"
            ]
          },
          "metadata": {
            "tags": []
          },
          "execution_count": 86
        }
      ]
    },
    {
      "cell_type": "markdown",
      "metadata": {
        "id": "3JFfNvqOzqwm"
      },
      "source": [
        "#Installation of logitboost\n"
      ]
    },
    {
      "cell_type": "code",
      "metadata": {
        "id": "6lg9NtIazWEw",
        "outputId": "68a358d5-8a78-4f10-8130-64ae0b9da87c",
        "colab": {
          "base_uri": "https://localhost:8080/"
        }
      },
      "source": [
        "pip install logitboost"
      ],
      "execution_count": 63,
      "outputs": [
        {
          "output_type": "stream",
          "text": [
            "Collecting logitboost\n",
            "  Downloading https://files.pythonhosted.org/packages/76/d8/e0606b2ec488ccafbcf0a3d008ad709609ba8ce026aeafa115f513e54611/logitboost-0.7-py3-none-any.whl\n",
            "Requirement already satisfied: scipy in /usr/local/lib/python3.6/dist-packages (from logitboost) (1.4.1)\n",
            "Requirement already satisfied: scikit-learn in /usr/local/lib/python3.6/dist-packages (from logitboost) (0.22.2.post1)\n",
            "Requirement already satisfied: numpy in /usr/local/lib/python3.6/dist-packages (from logitboost) (1.18.5)\n",
            "Requirement already satisfied: joblib>=0.11 in /usr/local/lib/python3.6/dist-packages (from scikit-learn->logitboost) (0.17.0)\n",
            "Installing collected packages: logitboost\n",
            "Successfully installed logitboost-0.7\n"
          ],
          "name": "stdout"
        }
      ]
    },
    {
      "cell_type": "code",
      "metadata": {
        "id": "f6p_2M0NzveZ",
        "outputId": "d93bc1d2-4469-4035-d9ad-34ff258dec2b",
        "colab": {
          "base_uri": "https://localhost:8080/"
        }
      },
      "source": [
        "pip install git+https://github.com/artemmavrin/logitboost.git"
      ],
      "execution_count": 64,
      "outputs": [
        {
          "output_type": "stream",
          "text": [
            "Collecting git+https://github.com/artemmavrin/logitboost.git\n",
            "  Cloning https://github.com/artemmavrin/logitboost.git to /tmp/pip-req-build-qoxi0mfd\n",
            "  Running command git clone -q https://github.com/artemmavrin/logitboost.git /tmp/pip-req-build-qoxi0mfd\n",
            "Requirement already satisfied (use --upgrade to upgrade): logitboost==0.7 from git+https://github.com/artemmavrin/logitboost.git in /usr/local/lib/python3.6/dist-packages\n",
            "Requirement already satisfied: numpy in /usr/local/lib/python3.6/dist-packages (from logitboost==0.7) (1.18.5)\n",
            "Requirement already satisfied: scipy in /usr/local/lib/python3.6/dist-packages (from logitboost==0.7) (1.4.1)\n",
            "Requirement already satisfied: scikit-learn in /usr/local/lib/python3.6/dist-packages (from logitboost==0.7) (0.22.2.post1)\n",
            "Requirement already satisfied: joblib>=0.11 in /usr/local/lib/python3.6/dist-packages (from scikit-learn->logitboost==0.7) (0.17.0)\n",
            "Building wheels for collected packages: logitboost\n",
            "  Building wheel for logitboost (setup.py) ... \u001b[?25l\u001b[?25hdone\n",
            "  Created wheel for logitboost: filename=logitboost-0.7-cp36-none-any.whl size=9297 sha256=18f7443b4106b9c647a2fe42c8f5a0e3549a900d8b4469cada8302b1a8dc5b65\n",
            "  Stored in directory: /tmp/pip-ephem-wheel-cache-phu8j0h3/wheels/0c/38/5d/4a680de6bea2c8321e8a647715569a41566eaa5b5440089b6f\n",
            "Successfully built logitboost\n"
          ],
          "name": "stdout"
        }
      ]
    },
    {
      "cell_type": "code",
      "metadata": {
        "id": "l7YbvMu2dzVI",
        "outputId": "f5483dc7-20c4-4afa-80e8-9470b469d756",
        "colab": {
          "base_uri": "https://localhost:8080/",
          "height": 581
        }
      },
      "source": [
        "#Importing the necessary libraries\n",
        "\n",
        "from sklearn.manifold import TSNE\n",
        "import matplotlib.pyplot as plt\n",
        "import numpy as np\n",
        "import matplotlib.pyplot as plt\n",
        "import seaborn as sns\n",
        "sns.set(style='darkgrid', palette='colorblind', color_codes=True)\n",
        "from sklearn.datasets import load_breast_cancer\n",
        "from sklearn.model_selection import train_test_split\n",
        "from sklearn.metrics import accuracy_score, classification_report\n",
        "from sklearn.manifold import TSNE\n",
        "from logitboost import LogitBoost\n",
        "\n",
        "\n",
        "data = load_breast_cancer()\n",
        "X = data.data\n",
        "y = data.target_names[data.target]\n",
        "n_classes = data.target.size\n",
        "\n",
        "# spliting into training/testing samples\n",
        "\n",
        "X_train, X_test, y_train, y_test = train_test_split(X, y, test_size=0.33,shuffle=True, stratify=y, random_state=0)\n",
        "\n",
        "tsne = TSNE(n_components=2, random_state=0)\n",
        "X_train_tsne = tsne.fit_transform(X_train)\n",
        "\n",
        "plt.figure(figsize=(10, 8))\n",
        "mask_benign = (y_train == 'benign')\n",
        "mask_malignant = (y_train == 'malignant')\n",
        "\n",
        "plt.scatter(X_train_tsne[mask_benign, 0], X_train_tsne[mask_benign, 1],\n",
        "           marker='s', c='g', label='benign', edgecolor='k', alpha=0.7)\n",
        "plt.scatter(X_train_tsne[mask_malignant, 0], X_train_tsne[mask_malignant, 1],\n",
        "           marker='o', c='r', label='malignant', edgecolor='k', alpha=0.7)\n",
        "\n",
        "\n",
        "plt.title('t-SNE plot of the training data')\n",
        "plt.xlabel('1st embedding axis')\n",
        "plt.ylabel('2nd embedding axis')\n",
        "plt.legend(loc='best', frameon=True, shadow=True)\n",
        "\n",
        "plt.tight_layout()\n",
        "plt.show()\n",
        "plt.close()"
      ],
      "execution_count": 69,
      "outputs": [
        {
          "output_type": "display_data",
          "data": {
            "image/png": "[encoded data removed]",
            "text/plain": [
              "<Figure size 720x576 with 1 Axes>"
            ]
          },
          "metadata": {
            "tags": []
          }
        }
      ]
    },
    {
      "cell_type": "code",
      "metadata": {
        "id": "WSIDtBKrxSA_",
        "outputId": "3ad21991-9eab-40a5-c376-ecc616ed5232",
        "colab": {
          "base_uri": "https://localhost:8080/"
        }
      },
      "source": [
        "#Prediction\n",
        "\n",
        "lboost = LogitBoost(n_estimators=200, random_state=0)\n",
        "lboost.fit(X_train, y_train)\n",
        "\n",
        "\n",
        "y_pred_train = lboost.predict(X_train)\n",
        "y_pred_test = lboost.predict(X_test)\n",
        "\n",
        "accuracy_train = accuracy_score(y_train, y_pred_train)\n",
        "accuracy_test = accuracy_score(y_test, y_pred_test)\n",
        "\n",
        "print('Training accuracy: %.4f' % accuracy_train)\n",
        "print('Test accuracy:     %.4f' % accuracy_test)\n",
        "\n",
        "#Training accuracy: 99.48%\n",
        "#Test accuracy:     95.21%"
      ],
      "execution_count": 70,
      "outputs": [
        {
          "output_type": "stream",
          "text": [
            "Training accuracy: 0.9948\n",
            "Test accuracy:     0.9521\n"
          ],
          "name": "stdout"
        }
      ]
    },
    {
      "cell_type": "code",
      "metadata": {
        "id": "gl70gcFB-Kdr",
        "outputId": "08a5214e-165a-43e7-faca-9d5fb1ef01c1",
        "colab": {
          "base_uri": "https://localhost:8080/"
        }
      },
      "source": [
        "#Precision\n",
        "report_train = classification_report(y_train, y_pred_train)\n",
        "report_test = classification_report(y_test, y_pred_test)\n",
        "print('Training\\n%s' % report_train)\n",
        "print('Testing\\n%s' % report_test)"
      ],
      "execution_count": 67,
      "outputs": [
        {
          "output_type": "stream",
          "text": [
            "Training\n",
            "              precision    recall  f1-score   support\n",
            "\n",
            "      benign       0.99      1.00      1.00       239\n",
            "   malignant       1.00      0.99      0.99       142\n",
            "\n",
            "    accuracy                           0.99       381\n",
            "   macro avg       1.00      0.99      0.99       381\n",
            "weighted avg       0.99      0.99      0.99       381\n",
            "\n",
            "Testing\n",
            "              precision    recall  f1-score   support\n",
            "\n",
            "      benign       0.97      0.95      0.96       118\n",
            "   malignant       0.92      0.96      0.94        70\n",
            "\n",
            "    accuracy                           0.95       188\n",
            "   macro avg       0.95      0.95      0.95       188\n",
            "weighted avg       0.95      0.95      0.95       188\n",
            "\n"
          ],
          "name": "stdout"
        }
      ]
    },
    {
      "cell_type": "code",
      "metadata": {
        "id": "uPI721NB-QJj",
        "outputId": "842be070-ed66-4ba5-ad2a-1a5d714d21dd",
        "colab": {
          "base_uri": "https://localhost:8080/",
          "height": 581
        }
      },
      "source": [
        "#Visualizing Accuracy \n",
        "iterations = np.arange(1, lboost.n_estimators + 1)\n",
        "staged_accuracy_train = list(lboost.staged_score(X_train, y_train))\n",
        "staged_accuracy_test = list(lboost.staged_score(X_test, y_test))\n",
        "\n",
        "plt.figure(figsize=(10, 8))\n",
        "plt.plot(iterations, staged_accuracy_train, label='Training', marker='.')\n",
        "plt.plot(iterations, staged_accuracy_test, label='Test', marker='.')\n",
        "\n",
        "plt.xlabel('Iteration')\n",
        "plt.ylabel('Accuracy')\n",
        "plt.title('Ensemble accuracy during each boosting iteration')\n",
        "plt.legend(loc='best', shadow=True, frameon=True)\n",
        "\n",
        "plt.tight_layout()\n",
        "plt.show()\n",
        "plt.close()\n"
      ],
      "execution_count": 68,
      "outputs": [
        {
          "output_type": "display_data",
          "data": {
            "image/png": "[encoded data removed]",
            "text/plain": [
              "<Figure size 720x576 with 1 Axes>"
            ]
          },
          "metadata": {
            "tags": []
          }
        }
      ]
    }
  ]
}